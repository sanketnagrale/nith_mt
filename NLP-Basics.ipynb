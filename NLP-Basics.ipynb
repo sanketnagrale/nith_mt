{
 "cells": [
  {
   "cell_type": "code",
   "execution_count": 1,
   "id": "accredited-concord",
   "metadata": {},
   "outputs": [],
   "source": [
    "import nltk\n",
    "from nltk import word_tokenize, sent_tokenize"
   ]
  },
  {
   "cell_type": "code",
   "execution_count": 2,
   "id": "balanced-graphics",
   "metadata": {},
   "outputs": [
    {
     "name": "stderr",
     "output_type": "stream",
     "text": [
      "/home/sanket/anaconda3/envs/spacy/lib/python3.8/site-packages/gensim/similarities/__init__.py:15: UserWarning: The gensim.similarities.levenshtein submodule is disabled, because the optional Levenshtein package <https://pypi.org/project/python-Levenshtein/> is unavailable. Install Levenhstein (e.g. `pip install python-Levenshtein`) to suppress this warning.\n",
      "  warnings.warn(msg)\n"
     ]
    }
   ],
   "source": [
    "import gensim\n",
    "from gensim.models.word2vec import Word2Vec\n",
    "from sklearn.manifold import TSNE\n",
    "import pandas as pd\n",
    "from bokeh.io import output_notebook\n",
    "from bokeh.plotting import show, figure\n",
    "%matplotlib inline"
   ]
  },
  {
   "cell_type": "code",
   "execution_count": 3,
   "id": "strange-pitch",
   "metadata": {},
   "outputs": [
    {
     "name": "stderr",
     "output_type": "stream",
     "text": [
      "[nltk_data] Downloading package punkt to /home/sanket/nltk_data...\n",
      "[nltk_data]   Package punkt is already up-to-date!\n"
     ]
    },
    {
     "data": {
      "text/plain": [
       "True"
      ]
     },
     "execution_count": 3,
     "metadata": {},
     "output_type": "execute_result"
    }
   ],
   "source": [
    "nltk.download('punkt')"
   ]
  },
  {
   "cell_type": "code",
   "execution_count": 4,
   "id": "secret-london",
   "metadata": {},
   "outputs": [
    {
     "name": "stderr",
     "output_type": "stream",
     "text": [
      "[nltk_data] Downloading package gutenberg to /home/sanket/nltk_data...\n",
      "[nltk_data]   Package gutenberg is already up-to-date!\n"
     ]
    },
    {
     "data": {
      "text/plain": [
       "True"
      ]
     },
     "execution_count": 4,
     "metadata": {},
     "output_type": "execute_result"
    }
   ],
   "source": [
    "nltk.download('gutenberg')"
   ]
  },
  {
   "cell_type": "code",
   "execution_count": 5,
   "id": "reflected-writer",
   "metadata": {},
   "outputs": [],
   "source": [
    "from nltk.corpus import gutenberg"
   ]
  },
  {
   "cell_type": "code",
   "execution_count": 6,
   "id": "lesbian-industry",
   "metadata": {},
   "outputs": [
    {
     "data": {
      "text/plain": [
       "['austen-emma.txt',\n",
       " 'austen-persuasion.txt',\n",
       " 'austen-sense.txt',\n",
       " 'bible-kjv.txt',\n",
       " 'blake-poems.txt',\n",
       " 'bryant-stories.txt',\n",
       " 'burgess-busterbrown.txt',\n",
       " 'carroll-alice.txt',\n",
       " 'chesterton-ball.txt',\n",
       " 'chesterton-brown.txt',\n",
       " 'chesterton-thursday.txt',\n",
       " 'edgeworth-parents.txt',\n",
       " 'melville-moby_dick.txt',\n",
       " 'milton-paradise.txt',\n",
       " 'shakespeare-caesar.txt',\n",
       " 'shakespeare-hamlet.txt',\n",
       " 'shakespeare-macbeth.txt',\n",
       " 'whitman-leaves.txt']"
      ]
     },
     "execution_count": 6,
     "metadata": {},
     "output_type": "execute_result"
    }
   ],
   "source": [
    "gutenberg.fileids()"
   ]
  },
  {
   "cell_type": "code",
   "execution_count": 7,
   "id": "ahead-mentor",
   "metadata": {},
   "outputs": [
    {
     "data": {
      "text/plain": [
       "18"
      ]
     },
     "execution_count": 7,
     "metadata": {},
     "output_type": "execute_result"
    }
   ],
   "source": [
    "len(gutenberg.fileids())"
   ]
  },
  {
   "cell_type": "code",
   "execution_count": 8,
   "id": "timely-stupid",
   "metadata": {},
   "outputs": [],
   "source": [
    "gberg_sent_tokens = sent_tokenize(gutenberg.raw())"
   ]
  },
  {
   "cell_type": "code",
   "execution_count": 9,
   "id": "dominant-england",
   "metadata": {},
   "outputs": [
    {
     "data": {
      "text/plain": [
       "['[Emma by Jane Austen 1816]\\n\\nVOLUME I\\n\\nCHAPTER I\\n\\n\\nEmma Woodhouse, handsome, clever, and rich, with a comfortable home\\nand happy disposition, seemed to unite some of the best blessings\\nof existence; and had lived nearly twenty-one years in the world\\nwith very little to distress or vex her.',\n",
       " \"She was the youngest of the two daughters of a most affectionate,\\nindulgent father; and had, in consequence of her sister's marriage,\\nbeen mistress of his house from a very early period.\",\n",
       " 'Her mother\\nhad died too long ago for her to have more than an indistinct\\nremembrance of her caresses; and her place had been supplied\\nby an excellent woman as governess, who had fallen little short\\nof a mother in affection.',\n",
       " \"Sixteen years had Miss Taylor been in Mr. Woodhouse's family,\\nless as a governess than a friend, very fond of both daughters,\\nbut particularly of Emma.\",\n",
       " 'Between _them_ it was more the intimacy\\nof sisters.']"
      ]
     },
     "execution_count": 9,
     "metadata": {},
     "output_type": "execute_result"
    }
   ],
   "source": [
    "gberg_sent_tokens[:5]"
   ]
  },
  {
   "cell_type": "code",
   "execution_count": 10,
   "id": "precious-graph",
   "metadata": {},
   "outputs": [
    {
     "data": {
      "text/plain": [
       "['She',\n",
       " 'was',\n",
       " 'the',\n",
       " 'youngest',\n",
       " 'of',\n",
       " 'the',\n",
       " 'two',\n",
       " 'daughters',\n",
       " 'of',\n",
       " 'a',\n",
       " 'most',\n",
       " 'affectionate',\n",
       " ',',\n",
       " 'indulgent',\n",
       " 'father',\n",
       " ';',\n",
       " 'and',\n",
       " 'had',\n",
       " ',',\n",
       " 'in',\n",
       " 'consequence',\n",
       " 'of',\n",
       " 'her',\n",
       " 'sister',\n",
       " \"'s\",\n",
       " 'marriage',\n",
       " ',',\n",
       " 'been',\n",
       " 'mistress',\n",
       " 'of',\n",
       " 'his',\n",
       " 'house',\n",
       " 'from',\n",
       " 'a',\n",
       " 'very',\n",
       " 'early',\n",
       " 'period',\n",
       " '.']"
      ]
     },
     "execution_count": 10,
     "metadata": {},
     "output_type": "execute_result"
    }
   ],
   "source": [
    "word_tokenize(gberg_sent_tokens[1])"
   ]
  },
  {
   "cell_type": "code",
   "execution_count": 11,
   "id": "unauthorized-conclusion",
   "metadata": {},
   "outputs": [
    {
     "data": {
      "text/plain": [
       "'father'"
      ]
     },
     "execution_count": 11,
     "metadata": {},
     "output_type": "execute_result"
    }
   ],
   "source": [
    "word_tokenize(gberg_sent_tokens[1])[14]"
   ]
  },
  {
   "cell_type": "code",
   "execution_count": 12,
   "id": "complex-exception",
   "metadata": {},
   "outputs": [],
   "source": [
    "gberg_sents = gutenberg.sents()"
   ]
  },
  {
   "cell_type": "code",
   "execution_count": 13,
   "id": "extended-movement",
   "metadata": {},
   "outputs": [
    {
     "data": {
      "text/plain": [
       "[['[', 'Emma', 'by', 'Jane', 'Austen', '1816', ']'],\n",
       " ['VOLUME', 'I'],\n",
       " ['CHAPTER', 'I'],\n",
       " ['Emma',\n",
       "  'Woodhouse',\n",
       "  ',',\n",
       "  'handsome',\n",
       "  ',',\n",
       "  'clever',\n",
       "  ',',\n",
       "  'and',\n",
       "  'rich',\n",
       "  ',',\n",
       "  'with',\n",
       "  'a',\n",
       "  'comfortable',\n",
       "  'home',\n",
       "  'and',\n",
       "  'happy',\n",
       "  'disposition',\n",
       "  ',',\n",
       "  'seemed',\n",
       "  'to',\n",
       "  'unite',\n",
       "  'some',\n",
       "  'of',\n",
       "  'the',\n",
       "  'best',\n",
       "  'blessings',\n",
       "  'of',\n",
       "  'existence',\n",
       "  ';',\n",
       "  'and',\n",
       "  'had',\n",
       "  'lived',\n",
       "  'nearly',\n",
       "  'twenty',\n",
       "  '-',\n",
       "  'one',\n",
       "  'years',\n",
       "  'in',\n",
       "  'the',\n",
       "  'world',\n",
       "  'with',\n",
       "  'very',\n",
       "  'little',\n",
       "  'to',\n",
       "  'distress',\n",
       "  'or',\n",
       "  'vex',\n",
       "  'her',\n",
       "  '.'],\n",
       " ['She',\n",
       "  'was',\n",
       "  'the',\n",
       "  'youngest',\n",
       "  'of',\n",
       "  'the',\n",
       "  'two',\n",
       "  'daughters',\n",
       "  'of',\n",
       "  'a',\n",
       "  'most',\n",
       "  'affectionate',\n",
       "  ',',\n",
       "  'indulgent',\n",
       "  'father',\n",
       "  ';',\n",
       "  'and',\n",
       "  'had',\n",
       "  ',',\n",
       "  'in',\n",
       "  'consequence',\n",
       "  'of',\n",
       "  'her',\n",
       "  'sister',\n",
       "  \"'\",\n",
       "  's',\n",
       "  'marriage',\n",
       "  ',',\n",
       "  'been',\n",
       "  'mistress',\n",
       "  'of',\n",
       "  'his',\n",
       "  'house',\n",
       "  'from',\n",
       "  'a',\n",
       "  'very',\n",
       "  'early',\n",
       "  'period',\n",
       "  '.']]"
      ]
     },
     "execution_count": 13,
     "metadata": {},
     "output_type": "execute_result"
    }
   ],
   "source": [
    "gberg_sents[:5]"
   ]
  },
  {
   "cell_type": "code",
   "execution_count": 14,
   "id": "distinguished-appointment",
   "metadata": {},
   "outputs": [
    {
     "data": {
      "text/plain": [
       "'father'"
      ]
     },
     "execution_count": 14,
     "metadata": {},
     "output_type": "execute_result"
    }
   ],
   "source": [
    "gberg_sents[4][14]"
   ]
  },
  {
   "cell_type": "code",
   "execution_count": 15,
   "id": "portuguese-upper",
   "metadata": {},
   "outputs": [
    {
     "data": {
      "text/plain": [
       "['[', 'Emma', 'by', 'Jane', 'Austen', '1816', ']', ...]"
      ]
     },
     "execution_count": 15,
     "metadata": {},
     "output_type": "execute_result"
    }
   ],
   "source": [
    "gutenberg.words()"
   ]
  },
  {
   "cell_type": "code",
   "execution_count": 16,
   "id": "viral-speed",
   "metadata": {},
   "outputs": [
    {
     "data": {
      "text/plain": [
       "2621613"
      ]
     },
     "execution_count": 16,
     "metadata": {},
     "output_type": "execute_result"
    }
   ],
   "source": [
    "len(gutenberg.words())"
   ]
  },
  {
   "cell_type": "markdown",
   "id": "special-alaska",
   "metadata": {},
   "source": [
    "## Word2Vec"
   ]
  },
  {
   "cell_type": "code",
   "execution_count": 17,
   "id": "virtual-commonwealth",
   "metadata": {},
   "outputs": [],
   "source": [
    "model = Word2Vec(sentences=gberg_sents, vector_size=64, sg=1, window=10, min_count=5, seed=42, workers=8)"
   ]
  },
  {
   "cell_type": "code",
   "execution_count": 18,
   "id": "designing-award",
   "metadata": {},
   "outputs": [],
   "source": [
    "model.save('raw_gutenberg_model.bin')"
   ]
  },
  {
   "cell_type": "code",
   "execution_count": 19,
   "id": "involved-accounting",
   "metadata": {},
   "outputs": [],
   "source": [
    "model2 = Word2Vec.load('raw_gutenberg_model.bin')"
   ]
  },
  {
   "cell_type": "code",
   "execution_count": 20,
   "id": "frequent-concentration",
   "metadata": {},
   "outputs": [
    {
     "data": {
      "text/plain": [
       "array([ 0.04308291, -0.88332427,  0.30545172,  0.01344383, -0.15514964,\n",
       "       -0.2414906 , -0.10370884, -0.49422938, -0.38026848, -0.00675001,\n",
       "       -0.09035981,  0.13612452,  0.4108681 ,  0.22404552, -0.19078241,\n",
       "       -0.10534835, -0.4151423 ,  0.16586553, -0.4165762 ,  0.42116627,\n",
       "       -0.03468144,  0.14763544, -0.17388079, -0.08702958,  0.2659286 ,\n",
       "       -0.20281482, -0.32162288, -0.27749795, -0.0338315 ,  0.54274124,\n",
       "        0.3857084 ,  0.0426717 , -0.03189872,  0.209965  ,  0.40158767,\n",
       "        0.04172629,  0.6121177 , -0.03893439, -0.31028312, -0.07631712,\n",
       "       -0.18862633, -0.03252225, -0.1630061 , -0.11277225, -0.08722199,\n",
       "        0.40430596, -0.15216011, -0.39983755, -0.44553995,  0.0601737 ,\n",
       "        0.29931095, -0.35798052, -0.06812852,  0.01255601, -0.321568  ,\n",
       "        0.01929178,  0.05318621, -0.5120343 ,  0.00130603, -0.38049582,\n",
       "        0.44086882, -0.3901628 , -0.21835679,  0.6013346 ], dtype=float32)"
      ]
     },
     "execution_count": 20,
     "metadata": {},
     "output_type": "execute_result"
    }
   ],
   "source": [
    "model.wv[\"dog\"]"
   ]
  },
  {
   "cell_type": "code",
   "execution_count": 21,
   "id": "indoor-tonight",
   "metadata": {},
   "outputs": [
    {
     "data": {
      "text/plain": [
       "64"
      ]
     },
     "execution_count": 21,
     "metadata": {},
     "output_type": "execute_result"
    }
   ],
   "source": [
    "len(model.wv[\"god\"])"
   ]
  },
  {
   "cell_type": "code",
   "execution_count": 22,
   "id": "electrical-agent",
   "metadata": {},
   "outputs": [
    {
     "data": {
      "text/plain": [
       "[('puppy', 0.8003432750701904),\n",
       " ('sweeper', 0.7644944190979004),\n",
       " ('thief', 0.7588803768157959),\n",
       " ('cage', 0.755757749080658),\n",
       " ('pig', 0.7504035234451294),\n",
       " ('paw', 0.7481651306152344),\n",
       " ('fox', 0.7464107871055603),\n",
       " ('lazy', 0.7455595135688782),\n",
       " ('Truck', 0.7262076139450073),\n",
       " ('chimney', 0.7260715961456299)]"
      ]
     },
     "execution_count": 22,
     "metadata": {},
     "output_type": "execute_result"
    }
   ],
   "source": [
    "model.wv.most_similar('dog')"
   ]
  },
  {
   "cell_type": "code",
   "execution_count": 23,
   "id": "running-scottish",
   "metadata": {},
   "outputs": [
    {
     "data": {
      "text/plain": [
       "[('suppose', 0.8685281872749329),\n",
       " ('contradict', 0.8530166149139404),\n",
       " ('manage', 0.8437581062316895),\n",
       " ('downright', 0.8405541181564331),\n",
       " ('know', 0.8235164880752563),\n",
       " ('_that_', 0.8165451884269714),\n",
       " ('hesitate', 0.816486120223999),\n",
       " ('_you_', 0.8151754140853882),\n",
       " ('really', 0.8122444152832031),\n",
       " ('Dreyfus', 0.8080966472625732)]"
      ]
     },
     "execution_count": 23,
     "metadata": {},
     "output_type": "execute_result"
    }
   ],
   "source": [
    "model.wv.most_similar('think')"
   ]
  },
  {
   "cell_type": "code",
   "execution_count": 24,
   "id": "signal-bacon",
   "metadata": {},
   "outputs": [
    {
     "data": {
      "text/plain": [
       "[('father', 0.8569563031196594),\n",
       " ('sister', 0.8548628687858582),\n",
       " ('daughter', 0.8015209436416626),\n",
       " ('husband', 0.7756421566009521),\n",
       " ('child', 0.7708503007888794),\n",
       " ('Mary', 0.7552725076675415),\n",
       " ('wife', 0.7458688616752625),\n",
       " ('brother', 0.7419754862785339),\n",
       " ('Amnon', 0.7308648228645325),\n",
       " ('nurse', 0.7199915051460266)]"
      ]
     },
     "execution_count": 24,
     "metadata": {},
     "output_type": "execute_result"
    }
   ],
   "source": [
    "model.wv.most_similar('mother')"
   ]
  },
  {
   "cell_type": "code",
   "execution_count": 25,
   "id": "accomplished-brunswick",
   "metadata": {},
   "outputs": [
    {
     "data": {
      "text/plain": [
       "'dog'"
      ]
     },
     "execution_count": 25,
     "metadata": {},
     "output_type": "execute_result"
    }
   ],
   "source": [
    "model.wv.doesnt_match(\"mother father daughter dog\".split())"
   ]
  },
  {
   "cell_type": "code",
   "execution_count": 26,
   "id": "invalid-bleeding",
   "metadata": {},
   "outputs": [
    {
     "data": {
      "text/plain": [
       "0.46662968"
      ]
     },
     "execution_count": 26,
     "metadata": {},
     "output_type": "execute_result"
    }
   ],
   "source": [
    "model.wv.similarity('father', 'dog')"
   ]
  },
  {
   "cell_type": "code",
   "execution_count": 27,
   "id": "impressive-berkeley",
   "metadata": {},
   "outputs": [
    {
     "data": {
      "text/plain": [
       "[('sister', 0.3589209318161011),\n",
       " ('husband', 0.34776216745376587),\n",
       " ('Rachel', 0.32448312640190125),\n",
       " ('brother', 0.32285967469215393),\n",
       " ('wife', 0.3154764771461487),\n",
       " ('Rebekah', 0.2971642017364502),\n",
       " ('younger', 0.2962048351764679),\n",
       " ('Lot', 0.2902721166610718),\n",
       " ('separation', 0.28255248069763184),\n",
       " ('uncleanness', 0.28077250719070435)]"
      ]
     },
     "execution_count": 27,
     "metadata": {},
     "output_type": "execute_result"
    }
   ],
   "source": [
    "model.wv.most_similar(positive=['father', 'woman'], negative='man')"
   ]
  },
  {
   "cell_type": "code",
   "execution_count": 28,
   "id": "pregnant-aruba",
   "metadata": {},
   "outputs": [
    {
     "data": {
      "text/plain": [
       "[('Rachel', 0.32602670788764954),\n",
       " ('Lot', 0.31861168146133423),\n",
       " ('Rebekah', 0.317126601934433),\n",
       " ('Abram', 0.30485013127326965),\n",
       " ('wife', 0.30201753973960876),\n",
       " ('brother', 0.2922000586986542),\n",
       " ('conceived', 0.28536325693130493),\n",
       " ('Cain', 0.28108659386634827),\n",
       " ('Ephron', 0.2809517979621887),\n",
       " ('Laban', 0.2781221270561218)]"
      ]
     },
     "execution_count": 28,
     "metadata": {},
     "output_type": "execute_result"
    }
   ],
   "source": [
    "model.wv.most_similar(positive=['son', 'woman'], negative='man')"
   ]
  },
  {
   "cell_type": "code",
   "execution_count": 29,
   "id": "crucial-earthquake",
   "metadata": {},
   "outputs": [
    {
     "data": {
      "text/plain": [
       "[('Lot', 0.30454468727111816),\n",
       " ('Rachel', 0.29852616786956787),\n",
       " ('Abel', 0.2962762415409088),\n",
       " ('Cain', 0.29079726338386536),\n",
       " ('strengthened', 0.2875920534133911),\n",
       " ('Mamre', 0.27353915572166443),\n",
       " ('multitude', 0.2732914388179779),\n",
       " ('Ephron', 0.2715042233467102),\n",
       " ('Rebekah', 0.26868724822998047),\n",
       " ('Laban', 0.26385077834129333),\n",
       " ('Gerar', 0.2598629593849182),\n",
       " ('David', 0.25865644216537476),\n",
       " ('servants', 0.25752905011177063),\n",
       " ('Abimelech', 0.25572967529296875),\n",
       " ('Abram', 0.2551155090332031),\n",
       " ('tent', 0.2538321018218994),\n",
       " ('city', 0.24838575720787048),\n",
       " ('Nebuchadnezzar', 0.24480150640010834),\n",
       " ('manner', 0.2444269210100174),\n",
       " ('uncleanness', 0.24351245164871216),\n",
       " ('princes', 0.24313604831695557),\n",
       " ('separation', 0.24038681387901306),\n",
       " ('prevailed', 0.23809851706027985),\n",
       " ('Samaria', 0.23650099337100983),\n",
       " ('blessings', 0.23574760556221008),\n",
       " ('Sarah', 0.23556561768054962),\n",
       " ('Jerusalem', 0.22712036967277527),\n",
       " ('Sodom', 0.22697138786315918),\n",
       " ('restored', 0.22605487704277039),\n",
       " ('issue', 0.22591370344161987),\n",
       " ('Solomon', 0.22513552010059357),\n",
       " ('Beersheba', 0.2249470055103302),\n",
       " ('tribute', 0.22468842566013336),\n",
       " ('Heth', 0.22392039000988007),\n",
       " ('sickness', 0.22326713800430298),\n",
       " ('raiment', 0.22272999584674835),\n",
       " ('Hamor', 0.22081154584884644),\n",
       " ('shewed', 0.22072894871234894),\n",
       " ('husband', 0.21827742457389832),\n",
       " ('Ai', 0.21827682852745056),\n",
       " ('abundance', 0.21466296911239624),\n",
       " ('increased', 0.21371425688266754),\n",
       " ('Mordecai', 0.2134396880865097),\n",
       " ('oppressed', 0.2125076800584793),\n",
       " ('birthright', 0.211179718375206),\n",
       " ('Midian', 0.2092951238155365),\n",
       " ('Shechem', 0.20828697085380554),\n",
       " ('possessed', 0.2054804265499115),\n",
       " ('vail', 0.20528613030910492),\n",
       " ('Ahaziah', 0.20509344339370728)]"
      ]
     },
     "execution_count": 29,
     "metadata": {},
     "output_type": "execute_result"
    }
   ],
   "source": [
    "model.wv.most_similar(positive=['king', 'woman'], negative='man', topn=50)"
   ]
  },
  {
   "cell_type": "code",
   "execution_count": 30,
   "id": "operational-handy",
   "metadata": {},
   "outputs": [
    {
     "data": {
      "text/plain": [
       "17011"
      ]
     },
     "execution_count": 30,
     "metadata": {},
     "output_type": "execute_result"
    }
   ],
   "source": [
    "## REDUCE WORD VECTOR DIMENSIONALITY WITH t-SNE\n",
    "\n",
    "len(model.wv)"
   ]
  },
  {
   "cell_type": "code",
   "execution_count": 31,
   "id": "loaded-google",
   "metadata": {},
   "outputs": [],
   "source": [
    "X = model.wv[model.wv.key_to_index]"
   ]
  },
  {
   "cell_type": "code",
   "execution_count": 32,
   "id": "vulnerable-naples",
   "metadata": {},
   "outputs": [],
   "source": [
    "tsne = TSNE(n_components=2, n_iter=1000)"
   ]
  },
  {
   "cell_type": "code",
   "execution_count": null,
   "id": "numerical-gathering",
   "metadata": {},
   "outputs": [],
   "source": [
    "X_2d = tsne.fit_transform(X)"
   ]
  },
  {
   "cell_type": "code",
   "execution_count": null,
   "id": "australian-lebanon",
   "metadata": {},
   "outputs": [],
   "source": [
    "coords_df = pd.DataFrame(X_2d, columns=['x', 'y'])\n",
    "coords_df['token'] = model.wv.key_to_index"
   ]
  },
  {
   "cell_type": "code",
   "execution_count": null,
   "id": "previous-launch",
   "metadata": {},
   "outputs": [],
   "source": [
    "coords_df.head(30)"
   ]
  },
  {
   "cell_type": "code",
   "execution_count": null,
   "id": "statutory-present",
   "metadata": {},
   "outputs": [],
   "source": [
    "coords_df.to_csv('raw_gutenberg_tsne.csv', index=False)"
   ]
  },
  {
   "cell_type": "code",
   "execution_count": null,
   "id": "reported-rescue",
   "metadata": {},
   "outputs": [],
   "source": [
    "_ = coords_df.plot.scatter('x', 'y', figsize=(12, 12), marker='.', s=10, alpha=0.2)"
   ]
  },
  {
   "cell_type": "code",
   "execution_count": null,
   "id": "future-disposition",
   "metadata": {},
   "outputs": [],
   "source": [
    "output_notebook()"
   ]
  },
  {
   "cell_type": "code",
   "execution_count": null,
   "id": "aging-breach",
   "metadata": {},
   "outputs": [],
   "source": [
    "subset_df = coords_df.sample(n=5000)"
   ]
  },
  {
   "cell_type": "code",
   "execution_count": null,
   "id": "proud-vulnerability",
   "metadata": {},
   "outputs": [],
   "source": [
    "p = figure(plot_width=600, plot_height=600)\n",
    "_ = p.text(x=subset_df.x, y=subset_df.y, text=subset_df.token)"
   ]
  },
  {
   "cell_type": "code",
   "execution_count": null,
   "id": "coordinate-helmet",
   "metadata": {},
   "outputs": [],
   "source": [
    "show(p)"
   ]
  },
  {
   "cell_type": "code",
   "execution_count": null,
   "id": "acting-rough",
   "metadata": {},
   "outputs": [],
   "source": []
  }
 ],
 "metadata": {
  "kernelspec": {
   "display_name": "Python [conda env:spacy]",
   "language": "python",
   "name": "conda-env-spacy-py"
  },
  "language_info": {
   "codemirror_mode": {
    "name": "ipython",
    "version": 3
   },
   "file_extension": ".py",
   "mimetype": "text/x-python",
   "name": "python",
   "nbconvert_exporter": "python",
   "pygments_lexer": "ipython3",
   "version": "3.8.5"
  }
 },
 "nbformat": 4,
 "nbformat_minor": 5
}
